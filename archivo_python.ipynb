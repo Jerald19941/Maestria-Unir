{
 "cells": [
  {
   "cell_type": "markdown",
   "id": "0a5d8dee",
   "metadata": {},
   "source": [
    "# Laboratorio: Árboles de decisión, reglas y ensemble learning                                                                                                                                                                                              Elaborado por: Jerald David Larios Cruz\n",
    "\n"
   ]
  },
  {
   "cell_type": "code",
   "execution_count": 24,
   "id": "3ed44bff",
   "metadata": {},
   "outputs": [
    {
     "data": {
      "text/html": [
       "<div>\n",
       "<style scoped>\n",
       "    .dataframe tbody tr th:only-of-type {\n",
       "        vertical-align: middle;\n",
       "    }\n",
       "\n",
       "    .dataframe tbody tr th {\n",
       "        vertical-align: top;\n",
       "    }\n",
       "\n",
       "    .dataframe thead th {\n",
       "        text-align: right;\n",
       "    }\n",
       "</style>\n",
       "<table border=\"1\" class=\"dataframe\">\n",
       "  <thead>\n",
       "    <tr style=\"text-align: right;\">\n",
       "      <th></th>\n",
       "      <th>Buying</th>\n",
       "      <th>Maintenance</th>\n",
       "      <th>Doors</th>\n",
       "      <th>Person</th>\n",
       "      <th>lug_boot</th>\n",
       "      <th>safety</th>\n",
       "      <th>class</th>\n",
       "    </tr>\n",
       "  </thead>\n",
       "  <tbody>\n",
       "    <tr>\n",
       "      <th>0</th>\n",
       "      <td>vhigh</td>\n",
       "      <td>vhigh</td>\n",
       "      <td>2</td>\n",
       "      <td>2</td>\n",
       "      <td>small</td>\n",
       "      <td>low</td>\n",
       "      <td>unacc</td>\n",
       "    </tr>\n",
       "    <tr>\n",
       "      <th>1</th>\n",
       "      <td>vhigh</td>\n",
       "      <td>vhigh</td>\n",
       "      <td>2</td>\n",
       "      <td>2</td>\n",
       "      <td>small</td>\n",
       "      <td>med</td>\n",
       "      <td>unacc</td>\n",
       "    </tr>\n",
       "    <tr>\n",
       "      <th>2</th>\n",
       "      <td>vhigh</td>\n",
       "      <td>vhigh</td>\n",
       "      <td>2</td>\n",
       "      <td>2</td>\n",
       "      <td>small</td>\n",
       "      <td>high</td>\n",
       "      <td>unacc</td>\n",
       "    </tr>\n",
       "    <tr>\n",
       "      <th>3</th>\n",
       "      <td>vhigh</td>\n",
       "      <td>vhigh</td>\n",
       "      <td>2</td>\n",
       "      <td>2</td>\n",
       "      <td>med</td>\n",
       "      <td>low</td>\n",
       "      <td>unacc</td>\n",
       "    </tr>\n",
       "    <tr>\n",
       "      <th>4</th>\n",
       "      <td>vhigh</td>\n",
       "      <td>vhigh</td>\n",
       "      <td>2</td>\n",
       "      <td>2</td>\n",
       "      <td>med</td>\n",
       "      <td>med</td>\n",
       "      <td>unacc</td>\n",
       "    </tr>\n",
       "    <tr>\n",
       "      <th>5</th>\n",
       "      <td>vhigh</td>\n",
       "      <td>vhigh</td>\n",
       "      <td>2</td>\n",
       "      <td>2</td>\n",
       "      <td>med</td>\n",
       "      <td>high</td>\n",
       "      <td>unacc</td>\n",
       "    </tr>\n",
       "    <tr>\n",
       "      <th>6</th>\n",
       "      <td>vhigh</td>\n",
       "      <td>vhigh</td>\n",
       "      <td>2</td>\n",
       "      <td>2</td>\n",
       "      <td>big</td>\n",
       "      <td>low</td>\n",
       "      <td>unacc</td>\n",
       "    </tr>\n",
       "    <tr>\n",
       "      <th>7</th>\n",
       "      <td>vhigh</td>\n",
       "      <td>vhigh</td>\n",
       "      <td>2</td>\n",
       "      <td>2</td>\n",
       "      <td>big</td>\n",
       "      <td>low</td>\n",
       "      <td>unacc</td>\n",
       "    </tr>\n",
       "    <tr>\n",
       "      <th>8</th>\n",
       "      <td>vhigh</td>\n",
       "      <td>vhigh</td>\n",
       "      <td>2</td>\n",
       "      <td>2</td>\n",
       "      <td>big</td>\n",
       "      <td>med</td>\n",
       "      <td>unacc</td>\n",
       "    </tr>\n",
       "    <tr>\n",
       "      <th>9</th>\n",
       "      <td>vhigh</td>\n",
       "      <td>vhigh</td>\n",
       "      <td>2</td>\n",
       "      <td>2</td>\n",
       "      <td>big</td>\n",
       "      <td>high</td>\n",
       "      <td>unacc</td>\n",
       "    </tr>\n",
       "  </tbody>\n",
       "</table>\n",
       "</div>"
      ],
      "text/plain": [
       "  Buying Maintenance Doors Person lug_boot safety  class\n",
       "0  vhigh       vhigh     2      2    small    low  unacc\n",
       "1  vhigh       vhigh     2      2    small    med  unacc\n",
       "2  vhigh       vhigh     2      2    small   high  unacc\n",
       "3  vhigh       vhigh     2      2      med    low  unacc\n",
       "4  vhigh       vhigh     2      2      med    med  unacc\n",
       "5  vhigh       vhigh     2      2      med   high  unacc\n",
       "6  vhigh       vhigh     2      2      big    low  unacc\n",
       "7  vhigh       vhigh     2      2      big    low  unacc\n",
       "8  vhigh       vhigh     2      2      big    med  unacc\n",
       "9  vhigh       vhigh     2      2      big   high  unacc"
      ]
     },
     "execution_count": 24,
     "metadata": {},
     "output_type": "execute_result"
    }
   ],
   "source": [
    "#Importando nuestro dataset usando la libreria pandas\n",
    "import pandas as pd\n",
    "\n",
    "dataset = pd.read_csv('Laboratorio_dataset_car.csv',delimiter=\";\")\n",
    " \n",
    "dataset.head(10)"
   ]
  },
  {
   "cell_type": "markdown",
   "id": "350229b2",
   "metadata": {},
   "source": [
    "Diferentes clases que existen: 4 clases diferentes"
   ]
  },
  {
   "cell_type": "code",
   "execution_count": 2,
   "id": "4dc91727",
   "metadata": {},
   "outputs": [
    {
     "name": "stdout",
     "output_type": "stream",
     "text": [
      "['acc' 'good' 'unacc' 'vgood']\n"
     ]
    },
    {
     "data": {
      "text/plain": [
       "1750"
      ]
     },
     "execution_count": 2,
     "metadata": {},
     "output_type": "execute_result"
    }
   ],
   "source": [
    "import numpy as np\n",
    "clases=np.unique(dataset['class'])\n",
    "print(clases)\n",
    "dataset.shape[0]"
   ]
  },
  {
   "cell_type": "code",
   "execution_count": 3,
   "id": "35f942d4",
   "metadata": {},
   "outputs": [
    {
     "data": {
      "text/plain": [
       "unacc    1215\n",
       "acc       390\n",
       "good       75\n",
       "vgood      70\n",
       "Name: class, dtype: int64"
      ]
     },
     "execution_count": 3,
     "metadata": {},
     "output_type": "execute_result"
    }
   ],
   "source": [
    "#Número de muestras por cada una de las clases\n",
    "dataset['class'].value_counts()"
   ]
  },
  {
   "cell_type": "code",
   "execution_count": 35,
   "id": "0d765049",
   "metadata": {},
   "outputs": [
    {
     "data": {
      "text/plain": [
       "(array([1215.,    0.,    0.,  390.,    0.,    0.,   70.,    0.,    0.,\n",
       "          75.]),\n",
       " array([0. , 0.3, 0.6, 0.9, 1.2, 1.5, 1.8, 2.1, 2.4, 2.7, 3. ]),\n",
       " <BarContainer object of 10 artists>)"
      ]
     },
     "execution_count": 35,
     "metadata": {},
     "output_type": "execute_result"
    },
    {
     "data": {
      "image/png": "[encoded data removed]",
      "text/plain": [
       "<Figure size 432x288 with 1 Axes>"
      ]
     },
     "metadata": {
      "needs_background": "light"
     },
     "output_type": "display_data"
    }
   ],
   "source": [
    "#Grafica de las clases y la cantidad de cada una\n",
    "import matplotlib.pyplot as plot\n",
    "plot.hist(x=dataset['class'], bins=10, color='#bc002b', rwidth=0.85)"
   ]
  },
  {
   "cell_type": "code",
   "execution_count": 4,
   "id": "4f72f8e9",
   "metadata": {},
   "outputs": [
    {
     "data": {
      "text/html": [
       "<div>\n",
       "<style scoped>\n",
       "    .dataframe tbody tr th:only-of-type {\n",
       "        vertical-align: middle;\n",
       "    }\n",
       "\n",
       "    .dataframe tbody tr th {\n",
       "        vertical-align: top;\n",
       "    }\n",
       "\n",
       "    .dataframe thead th {\n",
       "        text-align: right;\n",
       "    }\n",
       "</style>\n",
       "<table border=\"1\" class=\"dataframe\">\n",
       "  <thead>\n",
       "    <tr style=\"text-align: right;\">\n",
       "      <th></th>\n",
       "      <th>Buying</th>\n",
       "      <th>Maintenance</th>\n",
       "      <th>Doors</th>\n",
       "      <th>Person</th>\n",
       "      <th>lug_boot</th>\n",
       "      <th>safety</th>\n",
       "    </tr>\n",
       "  </thead>\n",
       "  <tbody>\n",
       "    <tr>\n",
       "      <th>count</th>\n",
       "      <td>1750</td>\n",
       "      <td>1750</td>\n",
       "      <td>1750</td>\n",
       "      <td>1750</td>\n",
       "      <td>1750</td>\n",
       "      <td>1750</td>\n",
       "    </tr>\n",
       "    <tr>\n",
       "      <th>unique</th>\n",
       "      <td>4</td>\n",
       "      <td>4</td>\n",
       "      <td>4</td>\n",
       "      <td>3</td>\n",
       "      <td>3</td>\n",
       "      <td>3</td>\n",
       "    </tr>\n",
       "    <tr>\n",
       "      <th>top</th>\n",
       "      <td>vhigh</td>\n",
       "      <td>low</td>\n",
       "      <td>2</td>\n",
       "      <td>4</td>\n",
       "      <td>big</td>\n",
       "      <td>high</td>\n",
       "    </tr>\n",
       "    <tr>\n",
       "      <th>freq</th>\n",
       "      <td>443</td>\n",
       "      <td>447</td>\n",
       "      <td>444</td>\n",
       "      <td>587</td>\n",
       "      <td>585</td>\n",
       "      <td>590</td>\n",
       "    </tr>\n",
       "  </tbody>\n",
       "</table>\n",
       "</div>"
      ],
      "text/plain": [
       "       Buying Maintenance Doors Person lug_boot safety\n",
       "count    1750        1750  1750   1750     1750   1750\n",
       "unique      4           4     4      3        3      3\n",
       "top     vhigh         low     2      4      big   high\n",
       "freq      443         447   444    587      585    590"
      ]
     },
     "execution_count": 4,
     "metadata": {},
     "output_type": "execute_result"
    }
   ],
   "source": [
    "#solo considerar la columna class\n",
    "y = dataset['class']\n",
    "#considerar las demás columnas, eliminando la columna class\n",
    "X = dataset.drop(columns=['class'])\n",
    "X.describe()"
   ]
  },
  {
   "cell_type": "code",
   "execution_count": 5,
   "id": "62b2a344",
   "metadata": {},
   "outputs": [
    {
     "name": "stdout",
     "output_type": "stream",
     "text": [
      "['high' 'low' 'med' 'vhigh']\n",
      "['high' 'low' 'med' 'vhigh']\n",
      "['2' '3' '4' '5more']\n",
      "['2' '4' 'more']\n",
      "['big' 'med' 'small']\n",
      "['high' 'low' 'med']\n"
     ]
    }
   ],
   "source": [
    "print(np.unique(X['Buying']))\n",
    "print(np.unique(X['Maintenance']))\n",
    "print(np.unique(X['Doors']))\n",
    "print(np.unique(X['Person']))\n",
    "print(np.unique(X['lug_boot']))\n",
    "print(np.unique(X['safety']))"
   ]
  },
  {
   "cell_type": "markdown",
   "id": "30665c14",
   "metadata": {},
   "source": [
    "Como podemos observar todas las variables son categoricas en este caso tendremos que convestirlas a numéricas ya que los algoritmos solo trabajan con variables numéricas. Tambien podemos observar por cada una de las varibles cuantos varores unicos tenemos"
   ]
  },
  {
   "cell_type": "code",
   "execution_count": 6,
   "id": "12289711",
   "metadata": {},
   "outputs": [],
   "source": [
    "X[\"Buying\"] = X[\"Buying\"].astype('category').cat.codes\n",
    "X[\"Maintenance\"] = X[\"Maintenance\"].astype('category').cat.codes\n",
    "X[\"Doors\"] = X[\"Doors\"].astype('category').cat.codes\n",
    "X[\"Person\"] = X[\"Person\"].astype('category').cat.codes\n",
    "X[\"lug_boot\"] = X[\"lug_boot\"].astype('category').cat.codes\n",
    "X[\"safety\"] = X[\"safety\"].astype('category').cat.codes\n",
    "y = y.astype('category').cat.codes"
   ]
  },
  {
   "cell_type": "code",
   "execution_count": 7,
   "id": "8518d483",
   "metadata": {},
   "outputs": [
    {
     "data": {
      "text/html": [
       "<div>\n",
       "<style scoped>\n",
       "    .dataframe tbody tr th:only-of-type {\n",
       "        vertical-align: middle;\n",
       "    }\n",
       "\n",
       "    .dataframe tbody tr th {\n",
       "        vertical-align: top;\n",
       "    }\n",
       "\n",
       "    .dataframe thead th {\n",
       "        text-align: right;\n",
       "    }\n",
       "</style>\n",
       "<table border=\"1\" class=\"dataframe\">\n",
       "  <thead>\n",
       "    <tr style=\"text-align: right;\">\n",
       "      <th></th>\n",
       "      <th>Buying</th>\n",
       "      <th>Maintenance</th>\n",
       "      <th>Doors</th>\n",
       "      <th>Person</th>\n",
       "      <th>lug_boot</th>\n",
       "      <th>safety</th>\n",
       "    </tr>\n",
       "  </thead>\n",
       "  <tbody>\n",
       "    <tr>\n",
       "      <th>0</th>\n",
       "      <td>3</td>\n",
       "      <td>3</td>\n",
       "      <td>0</td>\n",
       "      <td>0</td>\n",
       "      <td>2</td>\n",
       "      <td>1</td>\n",
       "    </tr>\n",
       "    <tr>\n",
       "      <th>1</th>\n",
       "      <td>3</td>\n",
       "      <td>3</td>\n",
       "      <td>0</td>\n",
       "      <td>0</td>\n",
       "      <td>2</td>\n",
       "      <td>2</td>\n",
       "    </tr>\n",
       "    <tr>\n",
       "      <th>2</th>\n",
       "      <td>3</td>\n",
       "      <td>3</td>\n",
       "      <td>0</td>\n",
       "      <td>0</td>\n",
       "      <td>2</td>\n",
       "      <td>0</td>\n",
       "    </tr>\n",
       "    <tr>\n",
       "      <th>3</th>\n",
       "      <td>3</td>\n",
       "      <td>3</td>\n",
       "      <td>0</td>\n",
       "      <td>0</td>\n",
       "      <td>1</td>\n",
       "      <td>1</td>\n",
       "    </tr>\n",
       "    <tr>\n",
       "      <th>4</th>\n",
       "      <td>3</td>\n",
       "      <td>3</td>\n",
       "      <td>0</td>\n",
       "      <td>0</td>\n",
       "      <td>1</td>\n",
       "      <td>2</td>\n",
       "    </tr>\n",
       "  </tbody>\n",
       "</table>\n",
       "</div>"
      ],
      "text/plain": [
       "   Buying  Maintenance  Doors  Person  lug_boot  safety\n",
       "0       3            3      0       0         2       1\n",
       "1       3            3      0       0         2       2\n",
       "2       3            3      0       0         2       0\n",
       "3       3            3      0       0         1       1\n",
       "4       3            3      0       0         1       2"
      ]
     },
     "execution_count": 7,
     "metadata": {},
     "output_type": "execute_result"
    }
   ],
   "source": [
    "#conjunto de datos transformado a numérico\n",
    "X.head()"
   ]
  },
  {
   "cell_type": "markdown",
   "id": "2a382c71",
   "metadata": {},
   "source": [
    "Como podemos observar ahora nuestro conjunto de datos es númerico y es lo que necesitamos para trabajar con el algoritmo que vamos a implementar"
   ]
  },
  {
   "cell_type": "code",
   "execution_count": 8,
   "id": "9f0401e9",
   "metadata": {},
   "outputs": [
    {
     "data": {
      "text/html": [
       "<div>\n",
       "<style scoped>\n",
       "    .dataframe tbody tr th:only-of-type {\n",
       "        vertical-align: middle;\n",
       "    }\n",
       "\n",
       "    .dataframe tbody tr th {\n",
       "        vertical-align: top;\n",
       "    }\n",
       "\n",
       "    .dataframe thead th {\n",
       "        text-align: right;\n",
       "    }\n",
       "</style>\n",
       "<table border=\"1\" class=\"dataframe\">\n",
       "  <thead>\n",
       "    <tr style=\"text-align: right;\">\n",
       "      <th></th>\n",
       "      <th>Buying</th>\n",
       "      <th>Maintenance</th>\n",
       "      <th>Doors</th>\n",
       "      <th>Person</th>\n",
       "      <th>lug_boot</th>\n",
       "      <th>safety</th>\n",
       "    </tr>\n",
       "  </thead>\n",
       "  <tbody>\n",
       "    <tr>\n",
       "      <th>count</th>\n",
       "      <td>1750.000000</td>\n",
       "      <td>1750.000000</td>\n",
       "      <td>1750.000000</td>\n",
       "      <td>1750.000000</td>\n",
       "      <td>1750.000000</td>\n",
       "      <td>1750.000000</td>\n",
       "    </tr>\n",
       "    <tr>\n",
       "      <th>mean</th>\n",
       "      <td>1.509714</td>\n",
       "      <td>1.500571</td>\n",
       "      <td>1.493714</td>\n",
       "      <td>1.004000</td>\n",
       "      <td>0.998286</td>\n",
       "      <td>0.995429</td>\n",
       "    </tr>\n",
       "    <tr>\n",
       "      <th>std</th>\n",
       "      <td>1.118311</td>\n",
       "      <td>1.115282</td>\n",
       "      <td>1.121399</td>\n",
       "      <td>0.815436</td>\n",
       "      <td>0.816845</td>\n",
       "      <td>0.818582</td>\n",
       "    </tr>\n",
       "    <tr>\n",
       "      <th>min</th>\n",
       "      <td>0.000000</td>\n",
       "      <td>0.000000</td>\n",
       "      <td>0.000000</td>\n",
       "      <td>0.000000</td>\n",
       "      <td>0.000000</td>\n",
       "      <td>0.000000</td>\n",
       "    </tr>\n",
       "    <tr>\n",
       "      <th>25%</th>\n",
       "      <td>1.000000</td>\n",
       "      <td>1.000000</td>\n",
       "      <td>0.000000</td>\n",
       "      <td>0.000000</td>\n",
       "      <td>0.000000</td>\n",
       "      <td>0.000000</td>\n",
       "    </tr>\n",
       "    <tr>\n",
       "      <th>50%</th>\n",
       "      <td>2.000000</td>\n",
       "      <td>1.000000</td>\n",
       "      <td>1.000000</td>\n",
       "      <td>1.000000</td>\n",
       "      <td>1.000000</td>\n",
       "      <td>1.000000</td>\n",
       "    </tr>\n",
       "    <tr>\n",
       "      <th>75%</th>\n",
       "      <td>3.000000</td>\n",
       "      <td>2.000000</td>\n",
       "      <td>2.000000</td>\n",
       "      <td>2.000000</td>\n",
       "      <td>2.000000</td>\n",
       "      <td>2.000000</td>\n",
       "    </tr>\n",
       "    <tr>\n",
       "      <th>max</th>\n",
       "      <td>3.000000</td>\n",
       "      <td>3.000000</td>\n",
       "      <td>3.000000</td>\n",
       "      <td>2.000000</td>\n",
       "      <td>2.000000</td>\n",
       "      <td>2.000000</td>\n",
       "    </tr>\n",
       "  </tbody>\n",
       "</table>\n",
       "</div>"
      ],
      "text/plain": [
       "            Buying  Maintenance        Doors       Person     lug_boot  \\\n",
       "count  1750.000000  1750.000000  1750.000000  1750.000000  1750.000000   \n",
       "mean      1.509714     1.500571     1.493714     1.004000     0.998286   \n",
       "std       1.118311     1.115282     1.121399     0.815436     0.816845   \n",
       "min       0.000000     0.000000     0.000000     0.000000     0.000000   \n",
       "25%       1.000000     1.000000     0.000000     0.000000     0.000000   \n",
       "50%       2.000000     1.000000     1.000000     1.000000     1.000000   \n",
       "75%       3.000000     2.000000     2.000000     2.000000     2.000000   \n",
       "max       3.000000     3.000000     3.000000     2.000000     2.000000   \n",
       "\n",
       "            safety  \n",
       "count  1750.000000  \n",
       "mean      0.995429  \n",
       "std       0.818582  \n",
       "min       0.000000  \n",
       "25%       0.000000  \n",
       "50%       1.000000  \n",
       "75%       2.000000  \n",
       "max       2.000000  "
      ]
     },
     "execution_count": 8,
     "metadata": {},
     "output_type": "execute_result"
    }
   ],
   "source": [
    "#Describiendo nuestro conjunto de datos\n",
    "X.describe()"
   ]
  },
  {
   "cell_type": "code",
   "execution_count": 9,
   "id": "440a0d35",
   "metadata": {},
   "outputs": [],
   "source": [
    "# Dividir de conjuntos en entrenamieto y prueba\n",
    "# 15% de prueba %85 de entremamiento\n",
    "from sklearn.model_selection import train_test_split \n",
    "X_train, X_validation, Y_train, Y_validation = train_test_split(X, y, test_size=0.15, random_state=1, shuffle=True)"
   ]
  },
  {
   "cell_type": "markdown",
   "id": "7feac6fc",
   "metadata": {},
   "source": [
    "Arbol de decisión CART con selección de atributos GINI"
   ]
  },
  {
   "cell_type": "code",
   "execution_count": 10,
   "id": "32d68159",
   "metadata": {},
   "outputs": [],
   "source": [
    "#Entrenamiento\n",
    "from sklearn.tree import DecisionTreeClassifier\n",
    "arbol_gini = DecisionTreeClassifier(criterion='gini')\n",
    "arbol_gini.fit(X_train,Y_train)\n",
    "predictions_gini = arbol_gini.predict(X_validation)"
   ]
  },
  {
   "cell_type": "code",
   "execution_count": 11,
   "id": "65f1f950",
   "metadata": {},
   "outputs": [
    {
     "name": "stdout",
     "output_type": "stream",
     "text": [
      "99.23954372623575 %\n"
     ]
    }
   ],
   "source": [
    "# Evaluamos las predicciones, en primer lugar la precisión obtenida \n",
    "from sklearn.metrics import accuracy_score \n",
    "print(accuracy_score(Y_validation, predictions_gini)*100,'%')"
   ]
  },
  {
   "cell_type": "markdown",
   "id": "50076fc4",
   "metadata": {},
   "source": [
    "Ahora vamos a graficar nuestra matriz de confusión"
   ]
  },
  {
   "cell_type": "code",
   "execution_count": 12,
   "id": "b34d1aa1",
   "metadata": {},
   "outputs": [
    {
     "name": "stderr",
     "output_type": "stream",
     "text": [
      "C:\\Users\\jlarios.UNAN\\Anaconda3\\lib\\site-packages\\sklearn\\utils\\deprecation.py:87: FutureWarning: Function plot_confusion_matrix is deprecated; Function `plot_confusion_matrix` is deprecated in 1.0 and will be removed in 1.2. Use one of the class methods: ConfusionMatrixDisplay.from_predictions or ConfusionMatrixDisplay.from_estimator.\n",
      "  warnings.warn(msg, category=FutureWarning)\n"
     ]
    },
    {
     "data": {
      "image/png": "[encoded data removed]",
      "text/plain": [
       "<Figure size 432x288 with 2 Axes>"
      ]
     },
     "metadata": {
      "needs_background": "light"
     },
     "output_type": "display_data"
    }
   ],
   "source": [
    "# importamos Matplotlib para muestra de gráficas\n",
    "import matplotlib.pyplot as plt\n",
    "import matplotlib.image as pltimg\n",
    "# Graficar la matriz de confusión\n",
    "from sklearn.metrics import plot_confusion_matrix\n",
    "#ahora la matriz de confusión donde 0 es 'acc', 1 es 'good', 2 es 'unacc' y 3 es 'vgood']\n",
    "plot_confusion_matrix(arbol_gini,X_validation,Y_validation)\n",
    "plt.show()"
   ]
  },
  {
   "cell_type": "code",
   "execution_count": 13,
   "id": "e204348d",
   "metadata": {},
   "outputs": [
    {
     "name": "stdout",
     "output_type": "stream",
     "text": [
      "              precision    recall  f1-score   support\n",
      "\n",
      "           0       1.00      0.98      0.99        53\n",
      "           1       0.88      1.00      0.94        15\n",
      "           2       1.00      0.99      1.00       186\n",
      "           3       1.00      1.00      1.00         9\n",
      "\n",
      "    accuracy                           0.99       263\n",
      "   macro avg       0.97      0.99      0.98       263\n",
      "weighted avg       0.99      0.99      0.99       263\n",
      "\n"
     ]
    }
   ],
   "source": [
    "#finalmente un informe de clasificación que ofrece un desglose de cada clase por precisión, recuerdo, puntuación f1 y apoyo, mostrando excelentes resultados (dado que el conjunto de datos de validación era pequeño). \n",
    "# Reporte de clasificación: Acc, Recall y F1\n",
    "from sklearn.metrics import classification_report \n",
    "print(classification_report(Y_validation, predictions_gini))"
   ]
  },
  {
   "cell_type": "code",
   "execution_count": 16,
   "id": "7256246f",
   "metadata": {},
   "outputs": [],
   "source": [
    "# Observar el aprendizaje del árbol\n",
    "from sklearn import tree\n",
    "import pydotplus\n",
    "data = tree.export_graphviz(arbol_gini, out_file=None, feature_names=X.columns, class_names=list(clases), filled=True, rounded=True, special_characters=True) \n",
    "graph = pydotplus.graph_from_dot_data(data) \n",
    "#graph.write_png('mydecisiontreegini.png') \n",
    "#img = pltimg.imread('mydecisiontree_gini.png') \n",
    "#imgplot = plt.imshow(img) \n",
    "plt.show()"
   ]
  },
  {
   "cell_type": "markdown",
   "id": "d62355a4",
   "metadata": {},
   "source": [
    "Random forest"
   ]
  },
  {
   "cell_type": "code",
   "execution_count": 18,
   "id": "408a2b56",
   "metadata": {},
   "outputs": [],
   "source": [
    "#Entrenamiento\n",
    "from sklearn.ensemble import RandomForestClassifier\n",
    "random_forest = RandomForestClassifier(criterion='entropy')\n",
    "random_forest.fit(X_train,Y_train)\n",
    "predictions_rf = random_forest.predict(X_validation)"
   ]
  },
  {
   "cell_type": "code",
   "execution_count": 19,
   "id": "16163b1b",
   "metadata": {},
   "outputs": [
    {
     "name": "stdout",
     "output_type": "stream",
     "text": [
      "97.71863117870723 %\n"
     ]
    }
   ],
   "source": [
    "# Evaluamos las predicciones, en primer lugar la precisión obtenida \n",
    "print(accuracy_score(Y_validation, predictions_rf)*100,'%')"
   ]
  },
  {
   "cell_type": "code",
   "execution_count": 20,
   "id": "d912f094",
   "metadata": {},
   "outputs": [
    {
     "name": "stderr",
     "output_type": "stream",
     "text": [
      "C:\\Users\\jlarios.UNAN\\Anaconda3\\lib\\site-packages\\sklearn\\utils\\deprecation.py:87: FutureWarning: Function plot_confusion_matrix is deprecated; Function `plot_confusion_matrix` is deprecated in 1.0 and will be removed in 1.2. Use one of the class methods: ConfusionMatrixDisplay.from_predictions or ConfusionMatrixDisplay.from_estimator.\n",
      "  warnings.warn(msg, category=FutureWarning)\n"
     ]
    },
    {
     "data": {
      "image/png": "[encoded data removed]",
      "text/plain": [
       "<Figure size 432x288 with 2 Axes>"
      ]
     },
     "metadata": {
      "needs_background": "light"
     },
     "output_type": "display_data"
    }
   ],
   "source": [
    "#ahora la matriz de confusión \n",
    "plot_confusion_matrix(random_forest,X_validation,Y_validation)\n",
    "plt.show()"
   ]
  },
  {
   "cell_type": "code",
   "execution_count": 21,
   "id": "cea1da4b",
   "metadata": {},
   "outputs": [
    {
     "name": "stdout",
     "output_type": "stream",
     "text": [
      "              precision    recall  f1-score   support\n",
      "\n",
      "           0       0.94      0.94      0.94        53\n",
      "           1       0.88      1.00      0.94        15\n",
      "           2       0.99      0.99      0.99       186\n",
      "           3       1.00      0.89      0.94         9\n",
      "\n",
      "    accuracy                           0.98       263\n",
      "   macro avg       0.96      0.96      0.95       263\n",
      "weighted avg       0.98      0.98      0.98       263\n",
      "\n"
     ]
    }
   ],
   "source": [
    "#finalmente un informe de clasificación que ofrece un desglose de cada clase por precisión, recuerdo, puntuación f1 y apoyo, mostrando excelentes resultados (dado que el conjunto de datos de validación era pequeño). \n",
    "print(classification_report(Y_validation, predictions_rf))"
   ]
  },
  {
   "cell_type": "code",
   "execution_count": null,
   "id": "286c9743",
   "metadata": {},
   "outputs": [],
   "source": []
  }
 ],
 "metadata": {
  "kernelspec": {
   "display_name": "Python 3 (ipykernel)",
   "language": "python",
   "name": "python3"
  },
  "language_info": {
   "codemirror_mode": {
    "name": "ipython",
    "version": 3
   },
   "file_extension": ".py",
   "mimetype": "text/x-python",
   "name": "python",
   "nbconvert_exporter": "python",
   "pygments_lexer": "ipython3",
   "version": "3.9.12"
  }
 },
 "nbformat": 4,
 "nbformat_minor": 5
}
